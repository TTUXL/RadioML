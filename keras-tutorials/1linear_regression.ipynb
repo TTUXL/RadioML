{
 "cells": [
  {
   "cell_type": "code",
   "execution_count": 54,
   "metadata": {},
   "outputs": [],
   "source": [
    "import numpy as np\n",
    "from keras import optimizers\n",
    "from keras.layers import Dense\n",
    "from keras.models import Sequential"
   ]
  },
  {
   "cell_type": "code",
   "execution_count": null,
   "metadata": {},
   "outputs": [],
   "source": [
    "np.random.seed(35) "
   ]
  },
  {
   "cell_type": "markdown",
   "metadata": {},
   "source": [
    "seed( ) 用于指定随机数生成时所用算法开始的整数值，如果使用相同的seed( )值，则每次生成的随即数都相同，如果不设置这个值，则系统根据时间来自己选择这个值，此时每次生成的随机数因时间差异而不同。"
   ]
  },
  {
   "cell_type": "code",
   "execution_count": 55,
   "metadata": {},
   "outputs": [],
   "source": [
    "x_train = [1, 2, 3, 4]\n",
    "y_train = [1, 2, 3, 4]"
   ]
  },
  {
   "cell_type": "code",
   "execution_count": 56,
   "metadata": {},
   "outputs": [
    {
     "name": "stdout",
     "output_type": "stream",
     "text": [
      "_________________________________________________________________\n",
      "Layer (type)                 Output Shape              Param #   \n",
      "=================================================================\n",
      "dense_10 (Dense)             (None, 1)                 2         \n",
      "=================================================================\n",
      "Total params: 2\n",
      "Trainable params: 2\n",
      "Non-trainable params: 0\n",
      "_________________________________________________________________\n"
     ]
    }
   ],
   "source": [
    "model = Sequential()\n",
    "model.add(Dense(1, input_dim=1))\n",
    "model.summary()"
   ]
  },
  {
   "cell_type": "code",
   "execution_count": 57,
   "metadata": {},
   "outputs": [
    {
     "name": "stdout",
     "output_type": "stream",
     "text": [
      "Epoch 1/20\n",
      "4/4 [==============================] - 0s 25ms/step - loss: 0.3864\n",
      "Epoch 2/20\n",
      "4/4 [==============================] - 0s 322us/step - loss: 0.1739\n",
      "Epoch 3/20\n",
      "4/4 [==============================] - 0s 290us/step - loss: 0.0784\n",
      "Epoch 4/20\n",
      "4/4 [==============================] - 0s 298us/step - loss: 0.0356\n",
      "Epoch 5/20\n",
      "4/4 [==============================] - 0s 267us/step - loss: 0.0163\n",
      "Epoch 6/20\n",
      "4/4 [==============================] - 0s 177us/step - loss: 0.0076\n",
      "Epoch 7/20\n",
      "4/4 [==============================] - 0s 203us/step - loss: 0.0037\n",
      "Epoch 8/20\n",
      "4/4 [==============================] - 0s 269us/step - loss: 0.0019\n",
      "Epoch 9/20\n",
      "4/4 [==============================] - 0s 290us/step - loss: 0.0011\n",
      "Epoch 10/20\n",
      "4/4 [==============================] - 0s 244us/step - loss: 7.4850e-04\n",
      "Epoch 11/20\n",
      "4/4 [==============================] - 0s 262us/step - loss: 5.6370e-04\n",
      "Epoch 12/20\n",
      "4/4 [==============================] - 0s 292us/step - loss: 4.6730e-04\n",
      "Epoch 13/20\n",
      "4/4 [==============================] - 0s 295us/step - loss: 4.1138e-04\n",
      "Epoch 14/20\n",
      "4/4 [==============================] - 0s 233us/step - loss: 3.7439e-04\n",
      "Epoch 15/20\n",
      "4/4 [==============================] - 0s 345us/step - loss: 3.4659e-04\n",
      "Epoch 16/20\n",
      "4/4 [==============================] - 0s 891us/step - loss: 3.2358e-04\n",
      "Epoch 17/20\n",
      "4/4 [==============================] - 0s 261us/step - loss: 3.0334e-04\n",
      "Epoch 18/20\n",
      "4/4 [==============================] - 0s 568us/step - loss: 2.8493e-04\n",
      "Epoch 19/20\n",
      "4/4 [==============================] - 0s 515us/step - loss: 2.6790e-04\n",
      "Epoch 20/20\n",
      "4/4 [==============================] - 0s 258us/step - loss: 2.5199e-04\n"
     ]
    },
    {
     "data": {
      "text/plain": [
       "<keras.callbacks.History at 0x7f78d53867f0>"
      ]
     },
     "execution_count": 57,
     "metadata": {},
     "output_type": "execute_result"
    }
   ],
   "source": [
    "sgd = optimizers.SGD(lr=0.1)\n",
    "model.compile(loss='mse', optimizer=sgd)\n",
    "model.fit(x_train, y_train, epochs=20)"
   ]
  },
  {
   "cell_type": "code",
   "execution_count": 58,
   "metadata": {},
   "outputs": [
    {
     "name": "stdout",
     "output_type": "stream",
     "text": [
      "[[5.026756]]\n"
     ]
    }
   ],
   "source": [
    "y_predict = model.predict(np.array([5]))\n",
    "print(y_predict)"
   ]
  },
  {
   "cell_type": "code",
   "execution_count": null,
   "metadata": {},
   "outputs": [],
   "source": [
    "可以使用predict(预测)关键字对模型进行调用。"
   ]
  }
 ],
 "metadata": {
  "kernelspec": {
   "display_name": "Python 3",
   "language": "python",
   "name": "python3"
  },
  "language_info": {
   "codemirror_mode": {
    "name": "ipython",
    "version": 3
   },
   "file_extension": ".py",
   "mimetype": "text/x-python",
   "name": "python",
   "nbconvert_exporter": "python",
   "pygments_lexer": "ipython3",
   "version": "3.6.4"
  }
 },
 "nbformat": 4,
 "nbformat_minor": 2
}
